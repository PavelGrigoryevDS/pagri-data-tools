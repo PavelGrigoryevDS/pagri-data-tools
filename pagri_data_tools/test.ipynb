{
 "cells": [
  {
   "cell_type": "code",
   "execution_count": 6,
   "id": "8f7ee6b3",
   "metadata": {},
   "outputs": [],
   "source": [
    "%load_ext autoreload\n",
    "%autoreload 2\n",
    "import core\n",
    "import pandas as pd\n",
    "from datetime import datetime\n",
    "import numpy as np\n",
    "import pagri_data_tools\n",
    "import plotly.graph_objects as go\n",
    "import plotly.express as px\n",
    "from plotly.subplots import make_subplots"
   ]
  },
  {
   "cell_type": "code",
   "execution_count": 5,
   "id": "bf3261bc",
   "metadata": {},
   "outputs": [],
   "source": [
    "df = pd.read_csv(\"https://raw.githubusercontent.com/lux-org/lux-datasets/master/data/college.csv\")"
   ]
  },
  {
   "cell_type": "code",
   "execution_count": 2,
   "id": "a7daab5c",
   "metadata": {},
   "outputs": [
    {
     "data": {
      "text/html": [
       "<div>\n",
       "<style scoped>\n",
       "    .dataframe tbody tr th:only-of-type {\n",
       "        vertical-align: middle;\n",
       "    }\n",
       "\n",
       "    .dataframe tbody tr th {\n",
       "        vertical-align: top;\n",
       "    }\n",
       "\n",
       "    .dataframe thead th {\n",
       "        text-align: right;\n",
       "    }\n",
       "</style>\n",
       "<table border=\"1\" class=\"dataframe\">\n",
       "  <thead>\n",
       "    <tr style=\"text-align: right;\">\n",
       "      <th></th>\n",
       "      <th>id</th>\n",
       "      <th>name</th>\n",
       "      <th>email</th>\n",
       "    </tr>\n",
       "  </thead>\n",
       "  <tbody>\n",
       "    <tr>\n",
       "      <th>0</th>\n",
       "      <td>1</td>\n",
       "      <td>John</td>\n",
       "      <td>a@test.com</td>\n",
       "    </tr>\n",
       "    <tr>\n",
       "      <th>1</th>\n",
       "      <td>2</td>\n",
       "      <td>Alice</td>\n",
       "      <td>b@test.com</td>\n",
       "    </tr>\n",
       "    <tr>\n",
       "      <th>2</th>\n",
       "      <td>3</td>\n",
       "      <td>Bob</td>\n",
       "      <td>c@test.com</td>\n",
       "    </tr>\n",
       "    <tr>\n",
       "      <th>3</th>\n",
       "      <td>4</td>\n",
       "      <td>Charlie</td>\n",
       "      <td>d@test.com</td>\n",
       "    </tr>\n",
       "    <tr>\n",
       "      <th>4</th>\n",
       "      <td>5</td>\n",
       "      <td>David</td>\n",
       "      <td>e@test.com</td>\n",
       "    </tr>\n",
       "    <tr>\n",
       "      <th>5</th>\n",
       "      <td>1</td>\n",
       "      <td>john</td>\n",
       "      <td>a@test.com</td>\n",
       "    </tr>\n",
       "    <tr>\n",
       "      <th>6</th>\n",
       "      <td>3</td>\n",
       "      <td>Bob</td>\n",
       "      <td>c@test.com</td>\n",
       "    </tr>\n",
       "  </tbody>\n",
       "</table>\n",
       "</div>"
      ],
      "text/plain": [
       "   id     name       email\n",
       "0   1     John  a@test.com\n",
       "1   2    Alice  b@test.com\n",
       "2   3      Bob  c@test.com\n",
       "3   4  Charlie  d@test.com\n",
       "4   5    David  e@test.com\n",
       "5   1     john  a@test.com\n",
       "6   3      Bob  c@test.com"
      ]
     },
     "execution_count": 2,
     "metadata": {},
     "output_type": "execute_result"
    }
   ],
   "source": [
    "from core import SmartDataFrame\n",
    "import pandas as pd\n",
    "\n",
    "# Create a sample DataFrame with duplicates\n",
    "data = {\n",
    "    'id': [1, 2, 3, 4, 5, 1, 3],\n",
    "    'name': ['John', 'Alice', 'Bob', 'Charlie', 'David', 'john', 'Bob'],\n",
    "    'email': ['a@test.com', 'b@test.com', 'c@test.com', 'd@test.com', 'e@test.com', 'a@test.com', 'c@test.com']\n",
    "}\n",
    "df = pd.DataFrame(data)\n",
    "df"
   ]
  },
  {
   "cell_type": "code",
   "execution_count": 3,
   "id": "ecc0f5b9",
   "metadata": {},
   "outputs": [
    {
     "data": {
      "text/html": [
       "<div>\n",
       "<style scoped>\n",
       "    .dataframe tbody tr th:only-of-type {\n",
       "        vertical-align: middle;\n",
       "    }\n",
       "\n",
       "    .dataframe tbody tr th {\n",
       "        vertical-align: top;\n",
       "    }\n",
       "\n",
       "    .dataframe thead th {\n",
       "        text-align: right;\n",
       "    }\n",
       "</style>\n",
       "<table border=\"1\" class=\"dataframe\">\n",
       "  <thead>\n",
       "    <tr style=\"text-align: right;\">\n",
       "      <th></th>\n",
       "      <th>id</th>\n",
       "      <th>name</th>\n",
       "      <th>email</th>\n",
       "    </tr>\n",
       "  </thead>\n",
       "  <tbody>\n",
       "    <tr>\n",
       "      <th>0</th>\n",
       "      <td>1</td>\n",
       "      <td>John</td>\n",
       "      <td>a@test.com</td>\n",
       "    </tr>\n",
       "    <tr>\n",
       "      <th>1</th>\n",
       "      <td>2</td>\n",
       "      <td>Alice</td>\n",
       "      <td>b@test.com</td>\n",
       "    </tr>\n",
       "    <tr>\n",
       "      <th>2</th>\n",
       "      <td>3</td>\n",
       "      <td>Bob</td>\n",
       "      <td>c@test.com</td>\n",
       "    </tr>\n",
       "    <tr>\n",
       "      <th>3</th>\n",
       "      <td>4</td>\n",
       "      <td>Charlie</td>\n",
       "      <td>d@test.com</td>\n",
       "    </tr>\n",
       "    <tr>\n",
       "      <th>4</th>\n",
       "      <td>5</td>\n",
       "      <td>David</td>\n",
       "      <td>e@test.com</td>\n",
       "    </tr>\n",
       "    <tr>\n",
       "      <th>5</th>\n",
       "      <td>1</td>\n",
       "      <td>john</td>\n",
       "      <td>a@test.com</td>\n",
       "    </tr>\n",
       "    <tr>\n",
       "      <th>6</th>\n",
       "      <td>3</td>\n",
       "      <td>Bob</td>\n",
       "      <td>c@test.com</td>\n",
       "    </tr>\n",
       "  </tbody>\n",
       "</table>\n",
       "</div>"
      ],
      "text/plain": [
       "<core.SmartDataFrame at 0x7671ce08d400>"
      ]
     },
     "execution_count": 3,
     "metadata": {},
     "output_type": "execute_result"
    }
   ],
   "source": [
    "sdf = SmartDataFrame(df)\n",
    "sdf"
   ]
  },
  {
   "cell_type": "code",
   "execution_count": null,
   "id": "382302c3",
   "metadata": {},
   "outputs": [
    {
     "data": {
      "text/plain": [
       "'Found 1 duplicated rows (14.3% of total)'"
      ]
     },
     "execution_count": 5,
     "metadata": {},
     "output_type": "execute_result"
    }
   ],
   "source": [
    "sdf.anomalies.check_duplicated_rows(return_df=False)"
   ]
  },
  {
   "cell_type": "code",
   "execution_count": null,
   "id": "67c865b5",
   "metadata": {},
   "outputs": [],
   "source": [
    "\n",
    "# Check for duplicate rows\n",
    "print(sdf.duplicates.check_duplicated_rows(return_df=False))\n",
    "# Output: Found 2 duplicated rows (28.6% of total)\n",
    "\n",
    "duplicate_rows = sdf.duplicates.check_duplicated_rows()\n",
    "print(duplicate_rows)\n",
    "\"\"\"\n",
    "Duplicated is 2 (28.6%) rows\n",
    "               count\n",
    "id name email       \n",
    "1  john a@test.com 2\n",
    "3  Bob  c@test.com 2\n",
    "\"\"\"\n",
    "\n",
    "# Find duplicates in individual columns\n",
    "column_dups = sdf.duplicates.find_columns_with_duplicates()\n",
    "\"\"\"\n",
    "Column Duplicates Summary\n",
    "id        2 (28.57%)\n",
    "name      1 (14.29%)\n",
    "email     2 (28.57%)\n",
    "\"\"\"\n",
    "\n",
    "# Access duplicates for a specific column\n",
    "print(column_dups['email'])\n",
    "\"\"\"\n",
    "   id   name       email\n",
    "0   1   John  a@test.com\n",
    "5   1   john  a@test.com\n",
    "2   3    Bob  c@test.com\n",
    "6   3    Bob  c@test.com\n",
    "\"\"\""
   ]
  },
  {
   "cell_type": "code",
   "execution_count": 64,
   "id": "85719a9e",
   "metadata": {},
   "outputs": [],
   "source": [
    "\n",
    "# Создаем экземпляр анализатора\n",
    "analyzer = pgdt.DataAnalyzer(test_df)"
   ]
  },
  {
   "cell_type": "code",
   "execution_count": 14,
   "id": "c192c000",
   "metadata": {},
   "outputs": [
    {
     "data": {
      "text/plain": [
       "numeric_int               100\n",
       "numeric_int_na            100\n",
       "numeric_float            1000\n",
       "numeric_with_outliers    1000\n",
       "numeric_with_nulls        900\n",
       "categorical                 4\n",
       "text                        4\n",
       "dates                    1000\n",
       "dates_with_outliers      1000\n",
       "dtype: int64"
      ]
     },
     "execution_count": 14,
     "metadata": {},
     "output_type": "execute_result"
    }
   ],
   "source": [
    "test_df.nunique()"
   ]
  },
  {
   "cell_type": "code",
   "execution_count": 18,
   "id": "a2103991",
   "metadata": {},
   "outputs": [
    {
     "data": {
      "text/html": [
       "<style type=\"text/css\">\n",
       "#T_97a09 caption {\n",
       "  font-size: 18px;\n",
       "  text-align: left;\n",
       "  font-weight: bold;\n",
       "}\n",
       "#T_97a09 th {\n",
       "  text-align: center;\n",
       "}\n",
       "#T_97a09_row0_col0, #T_97a09_row0_col1, #T_97a09_row0_col2, #T_97a09_row0_col3, #T_97a09_row0_col4, #T_97a09_row1_col0, #T_97a09_row1_col1, #T_97a09_row1_col2, #T_97a09_row1_col3, #T_97a09_row1_col4, #T_97a09_row2_col0, #T_97a09_row2_col1, #T_97a09_row2_col2, #T_97a09_row2_col3, #T_97a09_row2_col4, #T_97a09_row3_col0, #T_97a09_row3_col1, #T_97a09_row3_col2, #T_97a09_row3_col3, #T_97a09_row3_col4, #T_97a09_row4_col0, #T_97a09_row4_col1, #T_97a09_row4_col2, #T_97a09_row4_col3, #T_97a09_row4_col4, #T_97a09_row5_col0, #T_97a09_row5_col1, #T_97a09_row5_col2, #T_97a09_row5_col3, #T_97a09_row5_col4 {\n",
       "  text-align: left;\n",
       "}\n",
       "</style>\n",
       "<table id=\"T_97a09\">\n",
       "  <caption>Dataframe Overview</caption>\n",
       "  <thead>\n",
       "    <tr>\n",
       "      <th id=\"T_97a09_level0_col0\" class=\"col_heading level0 col0\" colspan=\"2\">Summary</th>\n",
       "      <th id=\"T_97a09_level0_col2\" class=\"col_heading level0 col2\" > </th>\n",
       "      <th id=\"T_97a09_level0_col3\" class=\"col_heading level0 col3\" colspan=\"2\">Columns Types</th>\n",
       "    </tr>\n",
       "  </thead>\n",
       "  <tbody>\n",
       "    <tr>\n",
       "      <td id=\"T_97a09_row0_col0\" class=\"data row0 col0\" >Rows</td>\n",
       "      <td id=\"T_97a09_row0_col1\" class=\"data row0 col1\" >1.05k</td>\n",
       "      <td id=\"T_97a09_row0_col2\" class=\"data row0 col2\" >          </td>\n",
       "      <td id=\"T_97a09_row0_col3\" class=\"data row0 col3\" >Text</td>\n",
       "      <td id=\"T_97a09_row0_col4\" class=\"data row0 col4\" >0</td>\n",
       "    </tr>\n",
       "    <tr>\n",
       "      <td id=\"T_97a09_row1_col0\" class=\"data row1 col0\" >Features</td>\n",
       "      <td id=\"T_97a09_row1_col1\" class=\"data row1 col1\" >9</td>\n",
       "      <td id=\"T_97a09_row1_col2\" class=\"data row1 col2\" >          </td>\n",
       "      <td id=\"T_97a09_row1_col3\" class=\"data row1 col3\" >Categorical</td>\n",
       "      <td id=\"T_97a09_row1_col4\" class=\"data row1 col4\" >4</td>\n",
       "    </tr>\n",
       "    <tr>\n",
       "      <td id=\"T_97a09_row2_col0\" class=\"data row2 col0\" >Missing cells</td>\n",
       "      <td id=\"T_97a09_row2_col1\" class=\"data row2 col1\" >105 (1%)</td>\n",
       "      <td id=\"T_97a09_row2_col2\" class=\"data row2 col2\" >          </td>\n",
       "      <td id=\"T_97a09_row2_col3\" class=\"data row2 col3\" >Int</td>\n",
       "      <td id=\"T_97a09_row2_col4\" class=\"data row2 col4\" >2</td>\n",
       "    </tr>\n",
       "    <tr>\n",
       "      <td id=\"T_97a09_row3_col0\" class=\"data row3 col0\" >Exact Duplicates</td>\n",
       "      <td id=\"T_97a09_row3_col1\" class=\"data row3 col1\" >50 (5%)</td>\n",
       "      <td id=\"T_97a09_row3_col2\" class=\"data row3 col2\" >          </td>\n",
       "      <td id=\"T_97a09_row3_col3\" class=\"data row3 col3\" >Float</td>\n",
       "      <td id=\"T_97a09_row3_col4\" class=\"data row3 col4\" >3</td>\n",
       "    </tr>\n",
       "    <tr>\n",
       "      <td id=\"T_97a09_row4_col0\" class=\"data row4 col0\" >Fuzzy Duplicates</td>\n",
       "      <td id=\"T_97a09_row4_col1\" class=\"data row4 col1\" >100 (10%)</td>\n",
       "      <td id=\"T_97a09_row4_col2\" class=\"data row4 col2\" >          </td>\n",
       "      <td id=\"T_97a09_row4_col3\" class=\"data row4 col3\" >Datetime</td>\n",
       "      <td id=\"T_97a09_row4_col4\" class=\"data row4 col4\" >2</td>\n",
       "    </tr>\n",
       "    <tr>\n",
       "      <td id=\"T_97a09_row5_col0\" class=\"data row5 col0\" >Memory Usage</td>\n",
       "      <td id=\"T_97a09_row5_col1\" class=\"data row5 col1\" ><1 Mb</td>\n",
       "      <td id=\"T_97a09_row5_col2\" class=\"data row5 col2\" >          </td>\n",
       "      <td id=\"T_97a09_row5_col3\" class=\"data row5 col3\" ></td>\n",
       "      <td id=\"T_97a09_row5_col4\" class=\"data row5 col4\" ></td>\n",
       "    </tr>\n",
       "  </tbody>\n",
       "</table>\n"
      ],
      "text/plain": [
       "<pandas.io.formats.style.Styler at 0x77820c87a490>"
      ]
     },
     "execution_count": 18,
     "metadata": {},
     "output_type": "execute_result"
    }
   ],
   "source": [
    "analyzer._generate_dataframe_overview()"
   ]
  },
  {
   "cell_type": "code",
   "execution_count": null,
   "id": "abeebdbc",
   "metadata": {},
   "outputs": [],
   "source": []
  },
  {
   "cell_type": "code",
   "execution_count": 24,
   "id": "0aae298b",
   "metadata": {},
   "outputs": [
    {
     "data": {
      "text/plain": [
       "Index(['Name', 'PredominantDegree', 'HighestDegree', 'FundingModel', 'Region',\n",
       "       'Geography', 'AdmissionRate', 'ACTMedian', 'SATAverage', 'AverageCost',\n",
       "       'Expenditure', 'AverageFacultySalary', 'MedianDebt',\n",
       "       'AverageAgeofEntry', 'MedianFamilyIncome', 'MedianEarnings'],\n",
       "      dtype='object')"
      ]
     },
     "execution_count": 24,
     "metadata": {},
     "output_type": "execute_result"
    }
   ],
   "source": [
    "df.columns"
   ]
  },
  {
   "cell_type": "code",
   "execution_count": null,
   "id": "2d1f964a",
   "metadata": {},
   "outputs": [],
   "source": [
    "analyzer._generate_wordcloud(df['Name'])"
   ]
  },
  {
   "cell_type": "code",
   "execution_count": null,
   "id": "3f3f36a6",
   "metadata": {},
   "outputs": [],
   "source": [
    "analyzer.generate_combined_charts(df['Name'])"
   ]
  },
  {
   "cell_type": "code",
   "execution_count": null,
   "id": "576d0f94",
   "metadata": {},
   "outputs": [],
   "source": [
    "analyzer._generate_bar_chart(df['Region'])"
   ]
  },
  {
   "cell_type": "code",
   "execution_count": null,
   "id": "bcf17e14",
   "metadata": {},
   "outputs": [],
   "source": [
    "pagri_data_tools.sentiment_analysis(test_df, 'categorical')"
   ]
  },
  {
   "cell_type": "code",
   "execution_count": null,
   "id": "8b69355c",
   "metadata": {},
   "outputs": [],
   "source": [
    "fig, tt = analyzer.analyze_sentiment('categorical')\n",
    "display(tt)\n",
    "fig"
   ]
  },
  {
   "cell_type": "code",
   "execution_count": 18,
   "id": "66c6726d",
   "metadata": {},
   "outputs": [
    {
     "data": {
      "text/html": [
       "<style type=\"text/css\">\n",
       "#T_8f844 caption {\n",
       "  font-size: 18px;\n",
       "  text-align: left;\n",
       "  font-weight: bold;\n",
       "}\n",
       "#T_8f844 th {\n",
       "  text-align: center;\n",
       "}\n",
       "#T_8f844_row0_col0, #T_8f844_row0_col1, #T_8f844_row0_col2, #T_8f844_row0_col3, #T_8f844_row0_col4, #T_8f844_row1_col0, #T_8f844_row1_col1, #T_8f844_row1_col2, #T_8f844_row1_col3, #T_8f844_row1_col4, #T_8f844_row2_col0, #T_8f844_row2_col1, #T_8f844_row2_col2, #T_8f844_row2_col3, #T_8f844_row2_col4, #T_8f844_row3_col0, #T_8f844_row3_col1, #T_8f844_row3_col2, #T_8f844_row3_col3, #T_8f844_row3_col4, #T_8f844_row4_col0, #T_8f844_row4_col1, #T_8f844_row4_col2, #T_8f844_row4_col3, #T_8f844_row4_col4, #T_8f844_row5_col0, #T_8f844_row5_col1, #T_8f844_row5_col2, #T_8f844_row5_col3, #T_8f844_row5_col4, #T_8f844_row6_col0, #T_8f844_row6_col1, #T_8f844_row6_col2, #T_8f844_row6_col3, #T_8f844_row6_col4, #T_8f844_row7_col0, #T_8f844_row7_col1, #T_8f844_row7_col2, #T_8f844_row7_col3, #T_8f844_row7_col4, #T_8f844_row8_col0, #T_8f844_row8_col1, #T_8f844_row8_col2, #T_8f844_row8_col3, #T_8f844_row8_col4 {\n",
       "  text-align: left;\n",
       "}\n",
       "</style>\n",
       "<table id=\"T_8f844\">\n",
       "  <caption>Summary Statistics for \"Region\" (Type: Categorical)</caption>\n",
       "  <thead>\n",
       "    <tr>\n",
       "      <th id=\"T_8f844_level0_col0\" class=\"col_heading level0 col0\" colspan=\"2\">Summary</th>\n",
       "      <th id=\"T_8f844_level0_col2\" class=\"col_heading level0 col2\" > </th>\n",
       "      <th id=\"T_8f844_level0_col3\" class=\"col_heading level0 col3\" colspan=\"2\">Text Metrics</th>\n",
       "    </tr>\n",
       "  </thead>\n",
       "  <tbody>\n",
       "    <tr>\n",
       "      <td id=\"T_8f844_row0_col0\" class=\"data row0 col0\" >Total Values</td>\n",
       "      <td id=\"T_8f844_row0_col1\" class=\"data row0 col1\" >1.29k (100%)</td>\n",
       "      <td id=\"T_8f844_row0_col2\" class=\"data row0 col2\" >          </td>\n",
       "      <td id=\"T_8f844_row0_col3\" class=\"data row0 col3\" >Avg Word Count</td>\n",
       "      <td id=\"T_8f844_row0_col4\" class=\"data row0 col4\" >1.5</td>\n",
       "    </tr>\n",
       "    <tr>\n",
       "      <td id=\"T_8f844_row1_col0\" class=\"data row1 col0\" >Missing Values</td>\n",
       "      <td id=\"T_8f844_row1_col1\" class=\"data row1 col1\" >0 (<1%)</td>\n",
       "      <td id=\"T_8f844_row1_col2\" class=\"data row1 col2\" >          </td>\n",
       "      <td id=\"T_8f844_row1_col3\" class=\"data row1 col3\" >Max Length (chars)</td>\n",
       "      <td id=\"T_8f844_row1_col4\" class=\"data row1 col4\" >15.0</td>\n",
       "    </tr>\n",
       "    <tr>\n",
       "      <td id=\"T_8f844_row2_col0\" class=\"data row2 col0\" >Empty Strings</td>\n",
       "      <td id=\"T_8f844_row2_col1\" class=\"data row2 col1\" >0 (<1%)</td>\n",
       "      <td id=\"T_8f844_row2_col2\" class=\"data row2 col2\" >          </td>\n",
       "      <td id=\"T_8f844_row2_col3\" class=\"data row2 col3\" >Avg Length (chars)</td>\n",
       "      <td id=\"T_8f844_row2_col4\" class=\"data row2 col4\" >10.4</td>\n",
       "    </tr>\n",
       "    <tr>\n",
       "      <td id=\"T_8f844_row3_col0\" class=\"data row3 col0\" >Distinct Values</td>\n",
       "      <td id=\"T_8f844_row3_col1\" class=\"data row3 col1\" >8 (<1%)</td>\n",
       "      <td id=\"T_8f844_row3_col2\" class=\"data row3 col2\" >          </td>\n",
       "      <td id=\"T_8f844_row3_col3\" class=\"data row3 col3\" >Median Length (chars)</td>\n",
       "      <td id=\"T_8f844_row3_col4\" class=\"data row3 col4\" >11.0</td>\n",
       "    </tr>\n",
       "    <tr>\n",
       "      <td id=\"T_8f844_row4_col0\" class=\"data row4 col0\" >Non-Duplicates</td>\n",
       "      <td id=\"T_8f844_row4_col1\" class=\"data row4 col1\" >0 (<1%)</td>\n",
       "      <td id=\"T_8f844_row4_col2\" class=\"data row4 col2\" >          </td>\n",
       "      <td id=\"T_8f844_row4_col3\" class=\"data row4 col3\" >Min Length (chars)</td>\n",
       "      <td id=\"T_8f844_row4_col4\" class=\"data row4 col4\" >8.0</td>\n",
       "    </tr>\n",
       "    <tr>\n",
       "      <td id=\"T_8f844_row5_col0\" class=\"data row5 col0\" >Exact Duplicates</td>\n",
       "      <td id=\"T_8f844_row5_col1\" class=\"data row5 col1\" >1.29k (99%)</td>\n",
       "      <td id=\"T_8f844_row5_col2\" class=\"data row5 col2\" >          </td>\n",
       "      <td id=\"T_8f844_row5_col3\" class=\"data row5 col3\" >Most Common Length</td>\n",
       "      <td id=\"T_8f844_row5_col4\" class=\"data row5 col4\" >9 (35.1%)</td>\n",
       "    </tr>\n",
       "    <tr>\n",
       "      <td id=\"T_8f844_row6_col0\" class=\"data row6 col0\" >Fuzzy Duplicates</td>\n",
       "      <td id=\"T_8f844_row6_col1\" class=\"data row6 col1\" >1.29k (99%)</td>\n",
       "      <td id=\"T_8f844_row6_col2\" class=\"data row6 col2\" >          </td>\n",
       "      <td id=\"T_8f844_row6_col3\" class=\"data row6 col3\" >Avg Digit Ratio</td>\n",
       "      <td id=\"T_8f844_row6_col4\" class=\"data row6 col4\" >0.000000</td>\n",
       "    </tr>\n",
       "    <tr>\n",
       "      <td id=\"T_8f844_row7_col0\" class=\"data row7 col0\" >Values with Duplicates</td>\n",
       "      <td id=\"T_8f844_row7_col1\" class=\"data row7 col1\" >8 (<1%)</td>\n",
       "      <td id=\"T_8f844_row7_col2\" class=\"data row7 col2\" >          </td>\n",
       "      <td id=\"T_8f844_row7_col3\" class=\"data row7 col3\" ></td>\n",
       "      <td id=\"T_8f844_row7_col4\" class=\"data row7 col4\" ></td>\n",
       "    </tr>\n",
       "    <tr>\n",
       "      <td id=\"T_8f844_row8_col0\" class=\"data row8 col0\" >Memory Usage</td>\n",
       "      <td id=\"T_8f844_row8_col1\" class=\"data row8 col1\" ><1 Mb</td>\n",
       "      <td id=\"T_8f844_row8_col2\" class=\"data row8 col2\" >          </td>\n",
       "      <td id=\"T_8f844_row8_col3\" class=\"data row8 col3\" ></td>\n",
       "      <td id=\"T_8f844_row8_col4\" class=\"data row8 col4\" ></td>\n",
       "    </tr>\n",
       "  </tbody>\n",
       "</table>\n"
      ],
      "text/plain": [
       "<pandas.io.formats.style.Styler at 0x77824f395a90>"
      ]
     },
     "execution_count": 18,
     "metadata": {},
     "output_type": "execute_result"
    }
   ],
   "source": [
    "analyzer._generate_summary_for_categorical(df['Region'])"
   ]
  },
  {
   "cell_type": "code",
   "execution_count": 10,
   "id": "671907b3",
   "metadata": {},
   "outputs": [
    {
     "data": {
      "text/html": [
       "<div>\n",
       "<style scoped>\n",
       "    .dataframe tbody tr th:only-of-type {\n",
       "        vertical-align: middle;\n",
       "    }\n",
       "\n",
       "    .dataframe tbody tr th {\n",
       "        vertical-align: top;\n",
       "    }\n",
       "\n",
       "    .dataframe thead th {\n",
       "        text-align: right;\n",
       "    }\n",
       "</style>\n",
       "<table border=\"1\" class=\"dataframe\">\n",
       "  <thead>\n",
       "    <tr style=\"text-align: right;\">\n",
       "      <th></th>\n",
       "      <th>Value Distribution</th>\n",
       "    </tr>\n",
       "  </thead>\n",
       "  <tbody>\n",
       "    <tr>\n",
       "      <th>0</th>\n",
       "      <td>Southeast: 360 (27.8%)</td>\n",
       "    </tr>\n",
       "    <tr>\n",
       "      <th>1</th>\n",
       "      <td>Mid-Atlantic: 227 (17.5%)</td>\n",
       "    </tr>\n",
       "    <tr>\n",
       "      <th>2</th>\n",
       "      <td>Great Lakes: 215 (16.6%)</td>\n",
       "    </tr>\n",
       "    <tr>\n",
       "      <th>3</th>\n",
       "      <td>Great Plains: 149 (11.5%)</td>\n",
       "    </tr>\n",
       "    <tr>\n",
       "      <th>4</th>\n",
       "      <td>Far West: 117 (9.0%)</td>\n",
       "    </tr>\n",
       "    <tr>\n",
       "      <th>5</th>\n",
       "      <td>New England: 97 (7.5%)</td>\n",
       "    </tr>\n",
       "    <tr>\n",
       "      <th>6</th>\n",
       "      <td>Southwest: 94 (7.3%)</td>\n",
       "    </tr>\n",
       "    <tr>\n",
       "      <th>7</th>\n",
       "      <td>Rocky Mountains: 35 (2.7%)</td>\n",
       "    </tr>\n",
       "  </tbody>\n",
       "</table>\n",
       "</div>"
      ],
      "text/plain": [
       "           Value Distribution\n",
       "0      Southeast: 360 (27.8%)\n",
       "1   Mid-Atlantic: 227 (17.5%)\n",
       "2    Great Lakes: 215 (16.6%)\n",
       "3   Great Plains: 149 (11.5%)\n",
       "4        Far West: 117 (9.0%)\n",
       "5      New England: 97 (7.5%)\n",
       "6        Southwest: 94 (7.3%)\n",
       "7  Rocky Mountains: 35 (2.7%)"
      ]
     },
     "execution_count": 10,
     "metadata": {},
     "output_type": "execute_result"
    }
   ],
   "source": [
    "analyzer._generate_value_counts_for_categorical(df['Region'])"
   ]
  },
  {
   "cell_type": "code",
   "execution_count": 66,
   "id": "8cfd9e7d",
   "metadata": {},
   "outputs": [
    {
     "data": {
      "text/html": [
       "<div>\n",
       "<style scoped>\n",
       "    .dataframe tbody tr th:only-of-type {\n",
       "        vertical-align: middle;\n",
       "    }\n",
       "\n",
       "    .dataframe tbody tr th {\n",
       "        vertical-align: top;\n",
       "    }\n",
       "\n",
       "    .dataframe thead tr th {\n",
       "        text-align: left;\n",
       "    }\n",
       "</style>\n",
       "<table border=\"1\" class=\"dataframe\">\n",
       "  <thead>\n",
       "    <tr>\n",
       "      <th></th>\n",
       "      <th colspan=\"2\" halign=\"left\">A</th>\n",
       "      <th colspan=\"2\" halign=\"left\">B</th>\n",
       "    </tr>\n",
       "    <tr>\n",
       "      <th></th>\n",
       "      <th>one</th>\n",
       "      <th>two</th>\n",
       "      <th>one</th>\n",
       "      <th>two</th>\n",
       "    </tr>\n",
       "  </thead>\n",
       "  <tbody>\n",
       "    <tr>\n",
       "      <th>0</th>\n",
       "      <td>1</td>\n",
       "      <td>4</td>\n",
       "      <td>7</td>\n",
       "      <td>10</td>\n",
       "    </tr>\n",
       "    <tr>\n",
       "      <th>1</th>\n",
       "      <td>2</td>\n",
       "      <td>5</td>\n",
       "      <td>8</td>\n",
       "      <td>11</td>\n",
       "    </tr>\n",
       "    <tr>\n",
       "      <th>2</th>\n",
       "      <td>3</td>\n",
       "      <td>6</td>\n",
       "      <td>9</td>\n",
       "      <td>12</td>\n",
       "    </tr>\n",
       "  </tbody>\n",
       "</table>\n",
       "</div>"
      ],
      "text/plain": [
       "    A       B    \n",
       "  one two one two\n",
       "0   1   4   7  10\n",
       "1   2   5   8  11\n",
       "2   3   6   9  12"
      ]
     },
     "execution_count": 66,
     "metadata": {},
     "output_type": "execute_result"
    }
   ],
   "source": [
    "# Создаем данные\n",
    "\n",
    "data = {\n",
    "\n",
    "    ('A', 'one'): [1, 2, 3],\n",
    "\n",
    "    ('A', 'two'): [4, 5, 6],\n",
    "\n",
    "    ('B', 'one'): [7, 8, 9],\n",
    "\n",
    "    ('B', 'two'): [10, 11, 12]\n",
    "\n",
    "}\n",
    "\n",
    "df = pd.DataFrame(data)\n",
    "\n",
    "\n",
    "# Выводим DataFrame\n",
    "\n",
    "df"
   ]
  },
  {
   "cell_type": "code",
   "execution_count": 71,
   "id": "fa0497cc",
   "metadata": {},
   "outputs": [
    {
     "data": {
      "text/html": [
       "<div>\n",
       "<style scoped>\n",
       "    .dataframe tbody tr th:only-of-type {\n",
       "        vertical-align: middle;\n",
       "    }\n",
       "\n",
       "    .dataframe tbody tr th {\n",
       "        vertical-align: top;\n",
       "    }\n",
       "\n",
       "    .dataframe thead tr th {\n",
       "        text-align: left;\n",
       "    }\n",
       "</style>\n",
       "<table border=\"1\" class=\"dataframe\">\n",
       "  <thead>\n",
       "    <tr>\n",
       "      <th></th>\n",
       "      <th colspan=\"2\" halign=\"left\">A</th>\n",
       "      <th>a</th>\n",
       "      <th colspan=\"2\" halign=\"left\">B</th>\n",
       "      <th>aa</th>\n",
       "    </tr>\n",
       "    <tr>\n",
       "      <th></th>\n",
       "      <th>one</th>\n",
       "      <th>two</th>\n",
       "      <th></th>\n",
       "      <th>one</th>\n",
       "      <th>two</th>\n",
       "      <th></th>\n",
       "    </tr>\n",
       "  </thead>\n",
       "  <tbody>\n",
       "    <tr>\n",
       "      <th>0</th>\n",
       "      <td>1</td>\n",
       "      <td>4</td>\n",
       "      <td></td>\n",
       "      <td>7</td>\n",
       "      <td>10</td>\n",
       "      <td></td>\n",
       "    </tr>\n",
       "    <tr>\n",
       "      <th>1</th>\n",
       "      <td>2</td>\n",
       "      <td>5</td>\n",
       "      <td></td>\n",
       "      <td>8</td>\n",
       "      <td>11</td>\n",
       "      <td></td>\n",
       "    </tr>\n",
       "    <tr>\n",
       "      <th>2</th>\n",
       "      <td>3</td>\n",
       "      <td>6</td>\n",
       "      <td></td>\n",
       "      <td>9</td>\n",
       "      <td>12</td>\n",
       "      <td></td>\n",
       "    </tr>\n",
       "  </tbody>\n",
       "</table>\n",
       "</div>"
      ],
      "text/plain": [
       "    A               a   B              aa\n",
       "  one two             one two            \n",
       "0   1   4               7  10            \n",
       "1   2   5               8  11            \n",
       "2   3   6               9  12            "
      ]
     },
     "execution_count": 71,
     "metadata": {},
     "output_type": "execute_result"
    }
   ],
   "source": [
    "df = pd.DataFrame(data)\n",
    "df.insert(2, 'a', \" \" * 10) \n",
    "df.insert(5, 'aa', \" \" * 10) \n",
    "df"
   ]
  },
  {
   "cell_type": "code",
   "execution_count": null,
   "id": "a94f6933",
   "metadata": {},
   "outputs": [
    {
     "data": {
      "text/html": [
       "<style type=\"text/css\">\n",
       "#T_70323 caption {\n",
       "  font-size: 18px;\n",
       "  text-align: left;\n",
       "  font-weight: bold;\n",
       "}\n",
       "#T_70323 th {\n",
       "  text-align: center;\n",
       "}\n",
       "#T_70323_row0_col0, #T_70323_row0_col1, #T_70323_row0_col2, #T_70323_row0_col3, #T_70323_row0_col4, #T_70323_row0_col5, #T_70323_row0_col6, #T_70323_row0_col7, #T_70323_row1_col0, #T_70323_row1_col1, #T_70323_row1_col2, #T_70323_row1_col3, #T_70323_row1_col4, #T_70323_row1_col5, #T_70323_row1_col6, #T_70323_row1_col7, #T_70323_row2_col0, #T_70323_row2_col1, #T_70323_row2_col2, #T_70323_row2_col3, #T_70323_row2_col4, #T_70323_row2_col5, #T_70323_row2_col6, #T_70323_row2_col7, #T_70323_row3_col0, #T_70323_row3_col1, #T_70323_row3_col2, #T_70323_row3_col3, #T_70323_row3_col4, #T_70323_row3_col5, #T_70323_row3_col6, #T_70323_row3_col7, #T_70323_row4_col0, #T_70323_row4_col1, #T_70323_row4_col2, #T_70323_row4_col3, #T_70323_row4_col4, #T_70323_row4_col5, #T_70323_row4_col6, #T_70323_row4_col7, #T_70323_row5_col0, #T_70323_row5_col1, #T_70323_row5_col2, #T_70323_row5_col3, #T_70323_row5_col4, #T_70323_row5_col5, #T_70323_row5_col6, #T_70323_row5_col7 {\n",
       "  text-align: left;\n",
       "}\n",
       "</style>\n",
       "<table id=\"T_70323\">\n",
       "  <caption>Summary Statistics for \"dates\"</caption>\n",
       "  <thead>\n",
       "    <tr>\n",
       "      <th id=\"T_70323_level0_col0\" class=\"col_heading level0 col0\" colspan=\"2\">Basic Stats</th>\n",
       "      <th id=\"T_70323_level0_col2\" class=\"col_heading level0 col2\" > </th>\n",
       "      <th id=\"T_70323_level0_col3\" class=\"col_heading level0 col3\" colspan=\"2\">Data Quality Stats</th>\n",
       "      <th id=\"T_70323_level0_col5\" class=\"col_heading level0 col5\" >  </th>\n",
       "      <th id=\"T_70323_level0_col6\" class=\"col_heading level0 col6\" colspan=\"2\">Temporal Stats</th>\n",
       "    </tr>\n",
       "  </thead>\n",
       "  <tbody>\n",
       "    <tr>\n",
       "      <td id=\"T_70323_row0_col0\" class=\"data row0 col0\" >First date</td>\n",
       "      <td id=\"T_70323_row0_col1\" class=\"data row0 col1\" >2020-01-01</td>\n",
       "      <td id=\"T_70323_row0_col2\" class=\"data row0 col2\" >          </td>\n",
       "      <td id=\"T_70323_row0_col3\" class=\"data row0 col3\" >Values</td>\n",
       "      <td id=\"T_70323_row0_col4\" class=\"data row0 col4\" >1.05k (100%)</td>\n",
       "      <td id=\"T_70323_row0_col5\" class=\"data row0 col5\" >          </td>\n",
       "      <td id=\"T_70323_row0_col6\" class=\"data row0 col6\" >Missing Years</td>\n",
       "      <td id=\"T_70323_row0_col7\" class=\"data row0 col7\" >0</td>\n",
       "    </tr>\n",
       "    <tr>\n",
       "      <td id=\"T_70323_row1_col0\" class=\"data row1 col0\" >Last date</td>\n",
       "      <td id=\"T_70323_row1_col1\" class=\"data row1 col1\" >2022-09-26</td>\n",
       "      <td id=\"T_70323_row1_col2\" class=\"data row1 col2\" >          </td>\n",
       "      <td id=\"T_70323_row1_col3\" class=\"data row1 col3\" >Zeros</td>\n",
       "      <td id=\"T_70323_row1_col4\" class=\"data row1 col4\" >0 (<0.1%)</td>\n",
       "      <td id=\"T_70323_row1_col5\" class=\"data row1 col5\" >          </td>\n",
       "      <td id=\"T_70323_row1_col6\" class=\"data row1 col6\" >Missing Months</td>\n",
       "      <td id=\"T_70323_row1_col7\" class=\"data row1 col7\" >0</td>\n",
       "    </tr>\n",
       "    <tr>\n",
       "      <td id=\"T_70323_row2_col0\" class=\"data row2 col0\" >Avg Days Frequency</td>\n",
       "      <td id=\"T_70323_row2_col1\" class=\"data row2 col1\" >0.95</td>\n",
       "      <td id=\"T_70323_row2_col2\" class=\"data row2 col2\" >          </td>\n",
       "      <td id=\"T_70323_row2_col3\" class=\"data row2 col3\" >Missings</td>\n",
       "      <td id=\"T_70323_row2_col4\" class=\"data row2 col4\" >0 (<0.1%)</td>\n",
       "      <td id=\"T_70323_row2_col5\" class=\"data row2 col5\" >          </td>\n",
       "      <td id=\"T_70323_row2_col6\" class=\"data row2 col6\" >Missing Weeks</td>\n",
       "      <td id=\"T_70323_row2_col7\" class=\"data row2 col7\" >0</td>\n",
       "    </tr>\n",
       "    <tr>\n",
       "      <td id=\"T_70323_row3_col0\" class=\"data row3 col0\" >Min Days Interval</td>\n",
       "      <td id=\"T_70323_row3_col1\" class=\"data row3 col1\" >0</td>\n",
       "      <td id=\"T_70323_row3_col2\" class=\"data row3 col2\" >          </td>\n",
       "      <td id=\"T_70323_row3_col3\" class=\"data row3 col3\" >Distinct</td>\n",
       "      <td id=\"T_70323_row3_col4\" class=\"data row3 col4\" >1.00k (95.2%)</td>\n",
       "      <td id=\"T_70323_row3_col5\" class=\"data row3 col5\" >          </td>\n",
       "      <td id=\"T_70323_row3_col6\" class=\"data row3 col6\" >Missing Days</td>\n",
       "      <td id=\"T_70323_row3_col7\" class=\"data row3 col7\" >0</td>\n",
       "    </tr>\n",
       "    <tr>\n",
       "      <td id=\"T_70323_row4_col0\" class=\"data row4 col0\" >Max Days Interval</td>\n",
       "      <td id=\"T_70323_row4_col1\" class=\"data row4 col1\" >1</td>\n",
       "      <td id=\"T_70323_row4_col2\" class=\"data row4 col2\" >          </td>\n",
       "      <td id=\"T_70323_row4_col3\" class=\"data row4 col3\" >Duplicates</td>\n",
       "      <td id=\"T_70323_row4_col4\" class=\"data row4 col4\" >50 (4.8%)</td>\n",
       "      <td id=\"T_70323_row4_col5\" class=\"data row4 col5\" >          </td>\n",
       "      <td id=\"T_70323_row4_col6\" class=\"data row4 col6\" >Weekend Percentage</td>\n",
       "      <td id=\"T_70323_row4_col7\" class=\"data row4 col7\" >29.0%</td>\n",
       "    </tr>\n",
       "    <tr>\n",
       "      <td id=\"T_70323_row5_col0\" class=\"data row5 col0\" >RAM (Mb)</td>\n",
       "      <td id=\"T_70323_row5_col1\" class=\"data row5 col1\" ><1 Mb</td>\n",
       "      <td id=\"T_70323_row5_col2\" class=\"data row5 col2\" >          </td>\n",
       "      <td id=\"T_70323_row5_col3\" class=\"data row5 col3\" >Dup. Values</td>\n",
       "      <td id=\"T_70323_row5_col4\" class=\"data row5 col4\" >50 (4.8%)</td>\n",
       "      <td id=\"T_70323_row5_col5\" class=\"data row5 col5\" >          </td>\n",
       "      <td id=\"T_70323_row5_col6\" class=\"data row5 col6\" >Most Common Weekday</td>\n",
       "      <td id=\"T_70323_row5_col7\" class=\"data row5 col7\" >Saturday</td>\n",
       "    </tr>\n",
       "  </tbody>\n",
       "</table>\n"
      ],
      "text/plain": [
       "<pandas.io.formats.style.Styler at 0x7fc2ff501e00>"
      ]
     },
     "execution_count": 77,
     "metadata": {},
     "output_type": "execute_result"
    }
   ],
   "source": [
    "analyzer._generate_summary_for_numeric(test_df.dates)"
   ]
  },
  {
   "cell_type": "code",
   "execution_count": null,
   "id": "ac51cb2a",
   "metadata": {},
   "outputs": [],
   "source": [
    "# Тестируем анализ разных типов колонок\n",
    "print(\"=== Тестирование числовой колонки ===\")\n",
    "numeric_report = analyzer.analyze_column('numeric_float', hist_mode='dual')\n",
    "display(HTML(numeric_report))"
   ]
  },
  {
   "cell_type": "code",
   "execution_count": null,
   "id": "8f8adb8a",
   "metadata": {},
   "outputs": [],
   "source": [
    "\n",
    "print(\"\\n=== Тестирование категориальной колонки ===\")\n",
    "categorical_report = analyzer.analyze_column('categorical')\n",
    "display(HTML(categorical_report))\n"
   ]
  },
  {
   "cell_type": "code",
   "execution_count": null,
   "id": "1ab0a23a",
   "metadata": {},
   "outputs": [],
   "source": [
    "\n",
    "print(\"\\n=== Тестирование колонки с датами ===\")\n",
    "date_report = analyzer.analyze_column('dates')\n",
    "display(HTML(date_report))\n"
   ]
  },
  {
   "cell_type": "code",
   "execution_count": null,
   "id": "cbf60848",
   "metadata": {},
   "outputs": [],
   "source": [
    "\n",
    "print(\"\\n=== Тестирование колонки с выбросами ===\")\n",
    "outliers_report = analyzer.analyze_column('numeric_with_outliers', hist_mode='dual')\n",
    "display(HTML(outliers_report))\n"
   ]
  },
  {
   "cell_type": "code",
   "execution_count": null,
   "id": "fd7918a3",
   "metadata": {},
   "outputs": [],
   "source": [
    "\n",
    "print(\"\\n=== Тестирование колонки с пропусками ===\")\n",
    "nulls_report = analyzer.analyze_column('numeric_with_nulls')\n",
    "display(HTML(nulls_report))\n"
   ]
  },
  {
   "cell_type": "code",
   "execution_count": null,
   "id": "8e268cfd",
   "metadata": {},
   "outputs": [],
   "source": [
    "\n",
    "print(\"\\n=== Тестирование текстовой колонки ===\")\n",
    "text_report = analyzer.analyze_column('text')\n",
    "display(HTML(text_report))\n"
   ]
  },
  {
   "cell_type": "code",
   "execution_count": null,
   "id": "660170bd",
   "metadata": {},
   "outputs": [],
   "source": [
    "\n",
    "print(\"\\n=== Тестирование обработки ошибок ===\")\n",
    "try:\n",
    "    invalid_report = analyzer.analyze_column('nonexistent_column')\n",
    "except ValueError as e:\n",
    "    print(f\"Ожидаемая ошибка: {e}\")\n"
   ]
  },
  {
   "cell_type": "code",
   "execution_count": null,
   "id": "1adadc39",
   "metadata": {},
   "outputs": [],
   "source": [
    "\n",
    "try:\n",
    "    invalid_mode_report = analyzer.analyze_column('numeric_float', hist_mode='invalid_mode')\n",
    "except ValueError as e:\n",
    "    print(f\"Ожидаемая ошибка: {e}\")"
   ]
  }
 ],
 "metadata": {
  "kernelspec": {
   "display_name": "pagri-data-tools-oNosuyau-py3.13",
   "language": "python",
   "name": "python3"
  },
  "language_info": {
   "codemirror_mode": {
    "name": "ipython",
    "version": 3
   },
   "file_extension": ".py",
   "mimetype": "text/x-python",
   "name": "python",
   "nbconvert_exporter": "python",
   "pygments_lexer": "ipython3",
   "version": "3.13.2"
  }
 },
 "nbformat": 4,
 "nbformat_minor": 5
}
